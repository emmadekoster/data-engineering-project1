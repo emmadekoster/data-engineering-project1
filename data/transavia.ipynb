{
 "cells": [
  {
   "cell_type": "code",
   "execution_count": 1,
   "metadata": {},
   "outputs": [],
   "source": [
    "import numpy as np                                  # \"Scientific computing\"\n",
    "import scipy.stats as stats                         # Statistical tests\n",
    "\n",
    "import pandas as pd                                 # Data Frame\n",
    "from pandas.api.types import CategoricalDtype\n",
    "\n",
    "import matplotlib.pyplot as plt                     # Basic visualisation  "
   ]
  },
  {
   "cell_type": "code",
   "execution_count": 5,
   "metadata": {},
   "outputs": [
    {
     "data": {
      "text/html": [
       "<div>\n",
       "<style scoped>\n",
       "    .dataframe tbody tr th:only-of-type {\n",
       "        vertical-align: middle;\n",
       "    }\n",
       "\n",
       "    .dataframe tbody tr th {\n",
       "        vertical-align: top;\n",
       "    }\n",
       "\n",
       "    .dataframe thead th {\n",
       "        text-align: right;\n",
       "    }\n",
       "</style>\n",
       "<table border=\"1\" class=\"dataframe\">\n",
       "  <thead>\n",
       "    <tr style=\"text-align: right;\">\n",
       "      <th></th>\n",
       "      <th>scrapeDate</th>\n",
       "      <th>departAirport</th>\n",
       "      <th>arrivalAirport</th>\n",
       "      <th>marketingAirline</th>\n",
       "      <th>departureDate</th>\n",
       "      <th>arrivalDate</th>\n",
       "      <th>flightNumber</th>\n",
       "      <th>totalPrice</th>\n",
       "      <th>baseFare</th>\n",
       "      <th>taxSurcharge</th>\n",
       "    </tr>\n",
       "  </thead>\n",
       "  <tbody>\n",
       "    <tr>\n",
       "      <th>0</th>\n",
       "      <td>2023-03-23</td>\n",
       "      <td>BRU</td>\n",
       "      <td>HER</td>\n",
       "      <td>HV</td>\n",
       "      <td>2023-04-01T06:35:00</td>\n",
       "      <td>2023-04-01T11:00:00</td>\n",
       "      <td>9209</td>\n",
       "      <td>329.0</td>\n",
       "      <td>291.86</td>\n",
       "      <td>37.14</td>\n",
       "    </tr>\n",
       "    <tr>\n",
       "      <th>1</th>\n",
       "      <td>2023-03-23</td>\n",
       "      <td>BRU</td>\n",
       "      <td>ALC</td>\n",
       "      <td>HV</td>\n",
       "      <td>2023-04-01T16:35:00</td>\n",
       "      <td>2023-04-01T19:05:00</td>\n",
       "      <td>9003</td>\n",
       "      <td>199.0</td>\n",
       "      <td>161.86</td>\n",
       "      <td>37.14</td>\n",
       "    </tr>\n",
       "    <tr>\n",
       "      <th>2</th>\n",
       "      <td>2023-03-23</td>\n",
       "      <td>BRU</td>\n",
       "      <td>IBZ</td>\n",
       "      <td>HV</td>\n",
       "      <td>2023-04-01T12:30:00</td>\n",
       "      <td>2023-04-01T14:50:00</td>\n",
       "      <td>9009</td>\n",
       "      <td>268.0</td>\n",
       "      <td>230.86</td>\n",
       "      <td>37.14</td>\n",
       "    </tr>\n",
       "    <tr>\n",
       "      <th>3</th>\n",
       "      <td>2023-03-23</td>\n",
       "      <td>BRU</td>\n",
       "      <td>FAO</td>\n",
       "      <td>HV</td>\n",
       "      <td>2023-04-02T07:10:00</td>\n",
       "      <td>2023-04-02T09:05:00</td>\n",
       "      <td>9007</td>\n",
       "      <td>215.0</td>\n",
       "      <td>177.86</td>\n",
       "      <td>37.14</td>\n",
       "    </tr>\n",
       "    <tr>\n",
       "      <th>4</th>\n",
       "      <td>2023-03-23</td>\n",
       "      <td>BRU</td>\n",
       "      <td>ALC</td>\n",
       "      <td>HV</td>\n",
       "      <td>2023-04-02T17:25:00</td>\n",
       "      <td>2023-04-02T19:55:00</td>\n",
       "      <td>9003</td>\n",
       "      <td>182.0</td>\n",
       "      <td>144.86</td>\n",
       "      <td>37.14</td>\n",
       "    </tr>\n",
       "  </tbody>\n",
       "</table>\n",
       "</div>"
      ],
      "text/plain": [
       "   scrapeDate departAirport arrivalAirport marketingAirline  \\\n",
       "0  2023-03-23           BRU            HER               HV   \n",
       "1  2023-03-23           BRU            ALC               HV   \n",
       "2  2023-03-23           BRU            IBZ               HV   \n",
       "3  2023-03-23           BRU            FAO               HV   \n",
       "4  2023-03-23           BRU            ALC               HV   \n",
       "\n",
       "         departureDate          arrivalDate  flightNumber  totalPrice  \\\n",
       "0  2023-04-01T06:35:00  2023-04-01T11:00:00          9209       329.0   \n",
       "1  2023-04-01T16:35:00  2023-04-01T19:05:00          9003       199.0   \n",
       "2  2023-04-01T12:30:00  2023-04-01T14:50:00          9009       268.0   \n",
       "3  2023-04-02T07:10:00  2023-04-02T09:05:00          9007       215.0   \n",
       "4  2023-04-02T17:25:00  2023-04-02T19:55:00          9003       182.0   \n",
       "\n",
       "   baseFare  taxSurcharge  \n",
       "0    291.86         37.14  \n",
       "1    161.86         37.14  \n",
       "2    230.86         37.14  \n",
       "3    177.86         37.14  \n",
       "4    144.86         37.14  "
      ]
     },
     "execution_count": 5,
     "metadata": {},
     "output_type": "execute_result"
    }
   ],
   "source": [
    "transavia = pd.read_csv(\"../data/transavia/transaviaScrapeData_2023-03-23.csv\")\n",
    "transavia.head()     "
   ]
  },
  {
   "attachments": {},
   "cell_type": "markdown",
   "metadata": {},
   "source": [
    "# Brussel-Alicante | Aantal vluchten | 15/5/2023 - 20/5/2023\n"
   ]
  },
  {
   "cell_type": "code",
   "execution_count": 6,
   "metadata": {},
   "outputs": [
    {
     "data": {
      "text/plain": [
       "3"
      ]
     },
     "execution_count": 6,
     "metadata": {},
     "output_type": "execute_result"
    }
   ],
   "source": [
    "len(transavia.query(\"departAirport == 'BRU' and arrivalAirport == 'ALC' and (departureDate >= '2023-05-15' and departureDate <= '2023-05-20')\"))"
   ]
  },
  {
   "attachments": {},
   "cell_type": "markdown",
   "metadata": {},
   "source": [
    "# Brussel-Faro | Gemiddelde Prijs | juni"
   ]
  },
  {
   "cell_type": "code",
   "execution_count": 9,
   "metadata": {},
   "outputs": [
    {
     "data": {
      "text/plain": [
       "105.5"
      ]
     },
     "execution_count": 9,
     "metadata": {},
     "output_type": "execute_result"
    }
   ],
   "source": [
    "transavia.query(\"departAirport == 'BRU' and arrivalAirport == 'FAO' and (departureDate >= '2023-06-01' and departureDate <= '2023-06-31')\").totalPrice.mean()"
   ]
  },
  {
   "attachments": {},
   "cell_type": "markdown",
   "metadata": {},
   "source": [
    "# Brussel-Ibiza | Vertrekuur | 24/5/2023"
   ]
  },
  {
   "cell_type": "code",
   "execution_count": 17,
   "metadata": {},
   "outputs": [
    {
     "data": {
      "text/plain": [
       "117    2023-05-24T06:30:00\n",
       "Name: departureDate, dtype: object"
      ]
     },
     "execution_count": 17,
     "metadata": {},
     "output_type": "execute_result"
    }
   ],
   "source": [
    "transavia.query(\"departAirport == 'BRU' and arrivalAirport == 'IBZ' and (departureDate >= '2023-05-24' and departureDate < '2023-05-25') \").departureDate"
   ]
  },
  {
   "attachments": {},
   "cell_type": "markdown",
   "metadata": {},
   "source": [
    "# Brussel-Tenerife | Aankomstuur | 29/7/2023"
   ]
  },
  {
   "cell_type": "code",
   "execution_count": 18,
   "metadata": {},
   "outputs": [
    {
     "data": {
      "text/plain": [
       "310    2023-07-29T10:30:00\n",
       "Name: arrivalDate, dtype: object"
      ]
     },
     "execution_count": 18,
     "metadata": {},
     "output_type": "execute_result"
    }
   ],
   "source": [
    "transavia.query(\"departAirport == 'BRU' and arrivalAirport == 'TFS' and (departureDate >= '2023-07-29' and departureDate < '2023-07-30') \").arrivalDate"
   ]
  },
  {
   "attachments": {},
   "cell_type": "markdown",
   "metadata": {},
   "source": [
    "# Brussel-Kreta | Aantal vluchten | 1/7/2023 - 15/8/2023"
   ]
  },
  {
   "cell_type": "code",
   "execution_count": 19,
   "metadata": {},
   "outputs": [
    {
     "data": {
      "text/plain": [
       "19"
      ]
     },
     "execution_count": 19,
     "metadata": {},
     "output_type": "execute_result"
    }
   ],
   "source": [
    "len(transavia.query(\"departAirport == 'BRU' and arrivalAirport == 'HER' and (departureDate >= '2023-07-01' and departureDate <= '2023-08-15')\"))"
   ]
  },
  {
   "cell_type": "markdown",
   "metadata": {},
   "source": []
  }
 ],
 "metadata": {
  "kernelspec": {
   "display_name": "Python 3",
   "language": "python",
   "name": "python3"
  },
  "language_info": {
   "codemirror_mode": {
    "name": "ipython",
    "version": 3
   },
   "file_extension": ".py",
   "mimetype": "text/x-python",
   "name": "python",
   "nbconvert_exporter": "python",
   "pygments_lexer": "ipython3",
   "version": "3.10.10"
  },
  "orig_nbformat": 4
 },
 "nbformat": 4,
 "nbformat_minor": 2
}
