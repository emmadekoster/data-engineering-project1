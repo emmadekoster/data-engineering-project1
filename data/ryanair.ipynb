{
 "cells": [
  {
   "attachments": {},
   "cell_type": "markdown",
   "metadata": {},
   "source": [
    "## importing csv file \n",
    "opening ryanairscrapeData_...\n",
    "with pandas"
   ]
  },
  {
   "cell_type": "code",
   "execution_count": 1,
   "metadata": {},
   "outputs": [],
   "source": [
    "import pandas as pd\n",
    "df = pd.read_csv('./ryanair/ryanairScrapeData_2023-03-09.csv')"
   ]
  },
  {
   "cell_type": "code",
   "execution_count": 2,
   "metadata": {},
   "outputs": [
    {
     "name": "stdout",
     "output_type": "stream",
     "text": [
      "number of flights from BRU to AGP in april: 13\n"
     ]
    },
    {
     "name": "stderr",
     "output_type": "stream",
     "text": [
      "C:\\Users\\maxit\\AppData\\Local\\Temp\\ipykernel_8272\\803285313.py:2: UserWarning: Boolean Series key will be reindexed to match DataFrame index.\n",
      "  bru_agp_april = bru_agp[df['departureDate'] < '2023-05-01']\n"
     ]
    }
   ],
   "source": [
    "bru_agp = df[(df['departureAirportCode'] == 'BRU') & (df['arrivalAirportCode']=='AGP')]\n",
    "bru_agp_april = bru_agp[df['departureDate'] < '2023-05-01']\n",
    "print(f\"number of flights from BRU to AGP in april: {bru_agp_april.shape[0]}\")"
   ]
  },
  {
   "cell_type": "code",
   "execution_count": 25,
   "metadata": {},
   "outputs": [
    {
     "name": "stdout",
     "output_type": "stream",
     "text": [
      "average price from flight BRU to palma in mei: 95.67214285714286\n"
     ]
    }
   ],
   "source": [
    "bru_pmi = df[(df['departureAirportCode'] == 'BRU') & (df['arrivalAirportCode']=='PMI')]\n",
    "bru_pmi_mei = bru_pmi[(bru_pmi['departureDate']> '2023-04-31') & (bru_pmi['departureDate']< '2023-06-01')]\n",
    "print(f\"average price from flight BRU to palma in mei: {bru_pmi_mei['price'].mean()}\")"
   ]
  },
  {
   "cell_type": "code",
   "execution_count": 4,
   "metadata": {},
   "outputs": [
    {
     "name": "stdout",
     "output_type": "stream",
     "text": [
      "number of flights from BRU to AGP in juni: 14\n"
     ]
    }
   ],
   "source": [
    "bru_agp = df[(df['departureAirportCode'] == 'BRU') & (df['arrivalAirportCode']=='AGP')]\n",
    "bru_agp_juni = bru_agp[(bru_agp['departureDate']>= '2023-06-01') & (bru_agp['departureDate']< '2023-07-01') & (bru_agp['availableSeats']>0)]\n",
    "print(f\"number of flights from BRU to AGP in juni: {bru_agp_juni['availableSeats'].sum()}\")"
   ]
  },
  {
   "cell_type": "code",
   "execution_count": 5,
   "metadata": {},
   "outputs": [
    {
     "name": "stdout",
     "output_type": "stream",
     "text": [
      "number of flights from BRU to TFS in sep: 0\n"
     ]
    }
   ],
   "source": [
    "bru_tfs = df[(df['departureAirportCode'] == 'BRU') & (df['arrivalAirportCode']=='TFS')]\n",
    "bru_tfs_sep = bru_tfs[(bru_tfs['departureDate']> '2023-08-31') & (bru_tfs['departureDate']< '2023-09-15')]\n",
    "print(f\"number of flights from BRU to TFS in sep: {bru_tfs_sep.shape[0]}\")"
   ]
  },
  {
   "cell_type": "code",
   "execution_count": 6,
   "metadata": {},
   "outputs": [
    {
     "name": "stdout",
     "output_type": "stream",
     "text": [
      "number of flights from BRU to TFS in sep: 60\n"
     ]
    }
   ],
   "source": [
    "crl_alc = df[(df['departureAirportCode'] == 'CRL') & (df['arrivalAirportCode']=='ALC')]\n",
    "crl_alc_juni = crl_alc[(crl_alc['departureDate']>= '2023-06-01') & (crl_alc['departureDate']<= '2023-06-31')]\n",
    "print(f\"number of flights from BRU to TFS in sep: {crl_alc_juni.shape[0]}\")"
   ]
  },
  {
   "cell_type": "code",
   "execution_count": 12,
   "metadata": {},
   "outputs": [
    {
     "name": "stdout",
     "output_type": "stream",
     "text": [
      "number of flights from BRU to IBZ in aug: 7\n"
     ]
    }
   ],
   "source": [
    "crl_ibz = df[(df['departureAirportCode'] == 'CRL') & (df['arrivalAirportCode']=='IBZ')]\n",
    "crl_ibz_aug = crl_ibz[(crl_ibz['departureDate']>= '2023-08-15') & (crl_ibz['departureDate']<= '2023-08-27')]\n",
    "print(f\"number of flights from BRU to IBZ in aug: {crl_ibz_aug.shape[0]}\")"
   ]
  },
  {
   "cell_type": "code",
   "execution_count": 23,
   "metadata": {},
   "outputs": [
    {
     "name": "stdout",
     "output_type": "stream",
     "text": [
      "Departure time for flight CRL - AGP on 8 April: 13:40:00.000\n",
      "Name: departureDate, dtype: object\n"
     ]
    }
   ],
   "source": [
    "crl_agp = df[(df['departureAirportCode'] == 'CRL') & (df['arrivalAirportCode']=='AGP')]\n",
    "crl_agp_8apr = crl_agp[(crl_agp['departureDate'] >= '2023-04-08') & (crl_agp['departureDate'] < '2023-04-09')]\n",
    "print(f\"Departure time for flight CRL - AGP on 8 April: {str(crl_agp_8apr['departureDate']).split(sep='T')[1]}\")"
   ]
  },
  {
   "cell_type": "code",
   "execution_count": 27,
   "metadata": {},
   "outputs": [
    {
     "name": "stdout",
     "output_type": "stream",
     "text": [
      "Arrival time for flight CRL - AGP on 8 April: 09:05:00.000\n",
      "Name: arrivalDate, dtype: object\n"
     ]
    }
   ],
   "source": [
    "crl_pmi = df[(df['departureAirportCode'] == 'CRL') & (df['arrivalAirportCode']=='PMI')]\n",
    "crl_pmi_19apr = crl_pmi[(crl_pmi['departureDate'] >= '2023-04-19') & (crl_pmi['departureDate'] < '2023-04-20')]\n",
    "print(f\"Arrival time for flight CRL - AGP on 8 April: {str(crl_pmi_19apr['arrivalDate']).split(sep='T')[1]}\")"
   ]
  },
  {
   "cell_type": "code",
   "execution_count": 28,
   "metadata": {},
   "outputs": [
    {
     "name": "stdout",
     "output_type": "stream",
     "text": [
      "average price from flight CRL to TFS op 15 mei: nan\n"
     ]
    }
   ],
   "source": [
    "crl_tfs = df[(df['departureAirportCode'] == 'CRL') & (df['arrivalAirportCode']=='TFS')]\n",
    "crl_tfs_15mei = crl_tfs[(crl_tfs['departureDate']>= '2023-05-15') & (crl_tfs['departureDate']< '2023-05-16')]\n",
    "print(f\"average price from flight CRL to TFS op 15 mei: {crl_tfs_15mei['price'].mean()}\")"
   ]
  },
  {
   "cell_type": "code",
   "execution_count": 35,
   "metadata": {},
   "outputs": [
    {
     "name": "stdout",
     "output_type": "stream",
     "text": [
      "available seats for flight CRL to NAP on 19 april: -1\n"
     ]
    }
   ],
   "source": [
    "crl_bds = df[(df['departureAirportCode'] == 'CRL') & (df['arrivalAirportCode']=='NAP')]\n",
    "crl_nap_19apr = crl_bds[(crl_bds['departureDate']>= '2023-04-19') & (crl_bds['departureDate']< '2023-04-20')]\n",
    "print(f\"available seats for flight CRL to NAP on 19 april: {crl_nap_19apr['availableSeats'].sum()}\")"
   ]
  },
  {
   "cell_type": "code",
   "execution_count": 39,
   "metadata": {},
   "outputs": [
    {
     "name": "stdout",
     "output_type": "stream",
     "text": [
      "average price for flight CRL to BDS on sep to okt: 90.00399999999999\n"
     ]
    }
   ],
   "source": [
    "crl_bds = df[(df['departureAirportCode'] == 'CRL') & (df['arrivalAirportCode']=='BDS')]\n",
    "crl_bds_sepokt = crl_bds[(crl_bds['departureDate']>= '2023-09-15') & (crl_bds['departureDate']< '2023-10-30')]\n",
    "print(f\"average price for flight CRL to BDS on sep to okt: {crl_bds_sepokt['price'].mean()}\")"
   ]
  }
 ],
 "metadata": {
  "kernelspec": {
   "display_name": "Python 3",
   "language": "python",
   "name": "python3"
  },
  "language_info": {
   "codemirror_mode": {
    "name": "ipython",
    "version": 3
   },
   "file_extension": ".py",
   "mimetype": "text/x-python",
   "name": "python",
   "nbconvert_exporter": "python",
   "pygments_lexer": "ipython3",
   "version": "3.9.1"
  },
  "orig_nbformat": 4
 },
 "nbformat": 4,
 "nbformat_minor": 2
}
